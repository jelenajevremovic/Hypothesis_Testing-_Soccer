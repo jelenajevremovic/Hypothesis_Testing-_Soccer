{
 "cells": [
  {
   "cell_type": "markdown",
   "id": "f6f3b480",
   "metadata": {},
   "source": [
    "<img src=\"women_men_soccer.jpg\" alt=\"Women vs Men\" width = 500 />\n",
    "\n",
    "# Hypothesis Testing with Men's and Women's Soccer Matches\n",
    "\n",
    "This is a guided project that I finished on `DataCamp` platform. The text iz below.\n",
    "\n",
    "\"You're working as a sports journalist at a major online sports media company, specializing in soccer analysis and reporting. You've been watching both men's and women's international soccer matches for a number of years, and your gut instinct tells you that more goals are scored in women's international football matches than men's. This would make an interesting investigative article that your subscribers are bound to love, but you'll need to perform a valid statistical hypothesis test to be sure!\n",
    "\n",
    "While scoping this project, you acknowledge that the sport has changed a lot over the years, and performances likely vary a lot depending on the tournament, so you decide to limit the data used in the analysis to only official `FIFA World Cup` matches (not including qualifiers) since `2002-01-01`.\n",
    "\n",
    "You create two datasets containing the results of every official men's and women's international football match since the 19th century, which you scraped from a reliable online source. This data is stored in two CSV files: `women_results.csv` and `men_results.csv`.\n",
    "\n",
    "The question you are trying to determine the answer to is:\n",
    "\n",
    "> Are more goals scored in women's international soccer matches than men's?\n",
    "\n",
    "You assume a **10% significance level**, and use the following null and alternative hypotheses:\n",
    "\n",
    "**$H_0$** : The mean number of goals scored in women's international soccer matches is the same as men's.\n",
    "\n",
    "**$H_A$** : The mean number of goals scored in women's international soccer matches is greater than men's.\""
   ]
  },
  {
   "cell_type": "code",
   "execution_count": 28,
   "id": "d425b55c",
   "metadata": {},
   "outputs": [],
   "source": [
    "import pandas as pd\n",
    "import numpy as np\n",
    "import matplotlib.pyplot as plt\n",
    "import seaborn as sns\n",
    "\n",
    "import warnings\n",
    "pd.set_option('mode.chained_assignment', None)\n",
    "sns.set()"
   ]
  },
  {
   "cell_type": "markdown",
   "id": "84d46b8a",
   "metadata": {},
   "source": [
    "## 1. EDA (Exploratory data analysis)\n",
    "### Determing the column names, data types, and values"
   ]
  },
  {
   "cell_type": "code",
   "execution_count": 2,
   "id": "73c28eef",
   "metadata": {},
   "outputs": [],
   "source": [
    "men = pd.read_csv('men_results.csv')\n",
    "women = pd.read_csv('women_results.csv')"
   ]
  },
  {
   "cell_type": "code",
   "execution_count": 3,
   "id": "2b7701cf",
   "metadata": {},
   "outputs": [
    {
     "data": {
      "text/html": [
       "<div>\n",
       "<style scoped>\n",
       "    .dataframe tbody tr th:only-of-type {\n",
       "        vertical-align: middle;\n",
       "    }\n",
       "\n",
       "    .dataframe tbody tr th {\n",
       "        vertical-align: top;\n",
       "    }\n",
       "\n",
       "    .dataframe thead th {\n",
       "        text-align: right;\n",
       "    }\n",
       "</style>\n",
       "<table border=\"1\" class=\"dataframe\">\n",
       "  <thead>\n",
       "    <tr style=\"text-align: right;\">\n",
       "      <th></th>\n",
       "      <th>Unnamed: 0</th>\n",
       "      <th>date</th>\n",
       "      <th>home_team</th>\n",
       "      <th>away_team</th>\n",
       "      <th>home_score</th>\n",
       "      <th>away_score</th>\n",
       "      <th>tournament</th>\n",
       "    </tr>\n",
       "  </thead>\n",
       "  <tbody>\n",
       "    <tr>\n",
       "      <th>0</th>\n",
       "      <td>0</td>\n",
       "      <td>1969-11-01</td>\n",
       "      <td>Italy</td>\n",
       "      <td>France</td>\n",
       "      <td>1</td>\n",
       "      <td>0</td>\n",
       "      <td>Euro</td>\n",
       "    </tr>\n",
       "    <tr>\n",
       "      <th>1</th>\n",
       "      <td>1</td>\n",
       "      <td>1969-11-01</td>\n",
       "      <td>Denmark</td>\n",
       "      <td>England</td>\n",
       "      <td>4</td>\n",
       "      <td>3</td>\n",
       "      <td>Euro</td>\n",
       "    </tr>\n",
       "    <tr>\n",
       "      <th>2</th>\n",
       "      <td>2</td>\n",
       "      <td>1969-11-02</td>\n",
       "      <td>England</td>\n",
       "      <td>France</td>\n",
       "      <td>2</td>\n",
       "      <td>0</td>\n",
       "      <td>Euro</td>\n",
       "    </tr>\n",
       "    <tr>\n",
       "      <th>3</th>\n",
       "      <td>3</td>\n",
       "      <td>1969-11-02</td>\n",
       "      <td>Italy</td>\n",
       "      <td>Denmark</td>\n",
       "      <td>3</td>\n",
       "      <td>1</td>\n",
       "      <td>Euro</td>\n",
       "    </tr>\n",
       "    <tr>\n",
       "      <th>4</th>\n",
       "      <td>4</td>\n",
       "      <td>1975-08-25</td>\n",
       "      <td>Thailand</td>\n",
       "      <td>Australia</td>\n",
       "      <td>3</td>\n",
       "      <td>2</td>\n",
       "      <td>AFC Championship</td>\n",
       "    </tr>\n",
       "  </tbody>\n",
       "</table>\n",
       "</div>"
      ],
      "text/plain": [
       "   Unnamed: 0        date home_team  away_team  home_score  away_score  \\\n",
       "0           0  1969-11-01     Italy     France           1           0   \n",
       "1           1  1969-11-01   Denmark    England           4           3   \n",
       "2           2  1969-11-02   England     France           2           0   \n",
       "3           3  1969-11-02     Italy    Denmark           3           1   \n",
       "4           4  1975-08-25  Thailand  Australia           3           2   \n",
       "\n",
       "         tournament  \n",
       "0              Euro  \n",
       "1              Euro  \n",
       "2              Euro  \n",
       "3              Euro  \n",
       "4  AFC Championship  "
      ]
     },
     "execution_count": 3,
     "metadata": {},
     "output_type": "execute_result"
    }
   ],
   "source": [
    "women.head()"
   ]
  },
  {
   "cell_type": "code",
   "execution_count": 4,
   "id": "12b40e4b",
   "metadata": {},
   "outputs": [
    {
     "data": {
      "text/html": [
       "<div>\n",
       "<style scoped>\n",
       "    .dataframe tbody tr th:only-of-type {\n",
       "        vertical-align: middle;\n",
       "    }\n",
       "\n",
       "    .dataframe tbody tr th {\n",
       "        vertical-align: top;\n",
       "    }\n",
       "\n",
       "    .dataframe thead th {\n",
       "        text-align: right;\n",
       "    }\n",
       "</style>\n",
       "<table border=\"1\" class=\"dataframe\">\n",
       "  <thead>\n",
       "    <tr style=\"text-align: right;\">\n",
       "      <th></th>\n",
       "      <th>Unnamed: 0</th>\n",
       "      <th>date</th>\n",
       "      <th>home_team</th>\n",
       "      <th>away_team</th>\n",
       "      <th>home_score</th>\n",
       "      <th>away_score</th>\n",
       "      <th>tournament</th>\n",
       "    </tr>\n",
       "  </thead>\n",
       "  <tbody>\n",
       "    <tr>\n",
       "      <th>0</th>\n",
       "      <td>0</td>\n",
       "      <td>1872-11-30</td>\n",
       "      <td>Scotland</td>\n",
       "      <td>England</td>\n",
       "      <td>0</td>\n",
       "      <td>0</td>\n",
       "      <td>Friendly</td>\n",
       "    </tr>\n",
       "    <tr>\n",
       "      <th>1</th>\n",
       "      <td>1</td>\n",
       "      <td>1873-03-08</td>\n",
       "      <td>England</td>\n",
       "      <td>Scotland</td>\n",
       "      <td>4</td>\n",
       "      <td>2</td>\n",
       "      <td>Friendly</td>\n",
       "    </tr>\n",
       "    <tr>\n",
       "      <th>2</th>\n",
       "      <td>2</td>\n",
       "      <td>1874-03-07</td>\n",
       "      <td>Scotland</td>\n",
       "      <td>England</td>\n",
       "      <td>2</td>\n",
       "      <td>1</td>\n",
       "      <td>Friendly</td>\n",
       "    </tr>\n",
       "    <tr>\n",
       "      <th>3</th>\n",
       "      <td>3</td>\n",
       "      <td>1875-03-06</td>\n",
       "      <td>England</td>\n",
       "      <td>Scotland</td>\n",
       "      <td>2</td>\n",
       "      <td>2</td>\n",
       "      <td>Friendly</td>\n",
       "    </tr>\n",
       "    <tr>\n",
       "      <th>4</th>\n",
       "      <td>4</td>\n",
       "      <td>1876-03-04</td>\n",
       "      <td>Scotland</td>\n",
       "      <td>England</td>\n",
       "      <td>3</td>\n",
       "      <td>0</td>\n",
       "      <td>Friendly</td>\n",
       "    </tr>\n",
       "  </tbody>\n",
       "</table>\n",
       "</div>"
      ],
      "text/plain": [
       "   Unnamed: 0        date home_team away_team  home_score  away_score  \\\n",
       "0           0  1872-11-30  Scotland   England           0           0   \n",
       "1           1  1873-03-08   England  Scotland           4           2   \n",
       "2           2  1874-03-07  Scotland   England           2           1   \n",
       "3           3  1875-03-06   England  Scotland           2           2   \n",
       "4           4  1876-03-04  Scotland   England           3           0   \n",
       "\n",
       "  tournament  \n",
       "0   Friendly  \n",
       "1   Friendly  \n",
       "2   Friendly  \n",
       "3   Friendly  \n",
       "4   Friendly  "
      ]
     },
     "execution_count": 4,
     "metadata": {},
     "output_type": "execute_result"
    }
   ],
   "source": [
    "men.head()"
   ]
  },
  {
   "cell_type": "code",
   "execution_count": 5,
   "id": "a3919f62",
   "metadata": {},
   "outputs": [
    {
     "data": {
      "text/plain": [
       "Index(['Unnamed: 0', 'date', 'home_team', 'away_team', 'home_score',\n",
       "       'away_score', 'tournament'],\n",
       "      dtype='object')"
      ]
     },
     "execution_count": 5,
     "metadata": {},
     "output_type": "execute_result"
    }
   ],
   "source": [
    "men.columns"
   ]
  },
  {
   "cell_type": "code",
   "execution_count": 6,
   "id": "141ebfee",
   "metadata": {},
   "outputs": [],
   "source": [
    "men.drop('Unnamed: 0',axis = 1, inplace = True)\n",
    "women.drop('Unnamed: 0',axis = 1, inplace = True)"
   ]
  },
  {
   "cell_type": "code",
   "execution_count": 7,
   "id": "b1405990",
   "metadata": {},
   "outputs": [
    {
     "name": "stdout",
     "output_type": "stream",
     "text": [
      "<class 'pandas.core.frame.DataFrame'>\n",
      "RangeIndex: 44353 entries, 0 to 44352\n",
      "Data columns (total 6 columns):\n",
      " #   Column      Non-Null Count  Dtype \n",
      "---  ------      --------------  ----- \n",
      " 0   date        44353 non-null  object\n",
      " 1   home_team   44353 non-null  object\n",
      " 2   away_team   44353 non-null  object\n",
      " 3   home_score  44353 non-null  int64 \n",
      " 4   away_score  44353 non-null  int64 \n",
      " 5   tournament  44353 non-null  object\n",
      "dtypes: int64(2), object(4)\n",
      "memory usage: 2.0+ MB\n"
     ]
    }
   ],
   "source": [
    "men.info()"
   ]
  },
  {
   "cell_type": "code",
   "execution_count": 8,
   "id": "7000f3cd",
   "metadata": {},
   "outputs": [
    {
     "name": "stdout",
     "output_type": "stream",
     "text": [
      "<class 'pandas.core.frame.DataFrame'>\n",
      "RangeIndex: 4884 entries, 0 to 4883\n",
      "Data columns (total 6 columns):\n",
      " #   Column      Non-Null Count  Dtype \n",
      "---  ------      --------------  ----- \n",
      " 0   date        4884 non-null   object\n",
      " 1   home_team   4884 non-null   object\n",
      " 2   away_team   4884 non-null   object\n",
      " 3   home_score  4884 non-null   int64 \n",
      " 4   away_score  4884 non-null   int64 \n",
      " 5   tournament  4884 non-null   object\n",
      "dtypes: int64(2), object(4)\n",
      "memory usage: 229.1+ KB\n"
     ]
    }
   ],
   "source": [
    "women.info()"
   ]
  },
  {
   "cell_type": "markdown",
   "id": "6e9c29a5",
   "metadata": {},
   "source": [
    "We can see that for women we have data only from 1969, while for men it is from 1872."
   ]
  },
  {
   "cell_type": "markdown",
   "id": "2333aba1",
   "metadata": {},
   "source": [
    "## 2. Filtering the data\n",
    "\n",
    "#### Filter the data to only include official `FIFA World Cup` mathes that took place after `2002-01-01`."
   ]
  },
  {
   "cell_type": "code",
   "execution_count": 9,
   "id": "f2695ea4",
   "metadata": {},
   "outputs": [],
   "source": [
    "# Change the data from object to datetime type\n",
    "men['date'] = pd.to_datetime(men['date'])\n",
    "women['date'] = pd.to_datetime(women['date'])"
   ]
  },
  {
   "cell_type": "code",
   "execution_count": 10,
   "id": "c6951ec7",
   "metadata": {},
   "outputs": [
    {
     "name": "stdout",
     "output_type": "stream",
     "text": [
      "<class 'pandas.core.frame.DataFrame'>\n",
      "RangeIndex: 44353 entries, 0 to 44352\n",
      "Data columns (total 6 columns):\n",
      " #   Column      Non-Null Count  Dtype         \n",
      "---  ------      --------------  -----         \n",
      " 0   date        44353 non-null  datetime64[ns]\n",
      " 1   home_team   44353 non-null  object        \n",
      " 2   away_team   44353 non-null  object        \n",
      " 3   home_score  44353 non-null  int64         \n",
      " 4   away_score  44353 non-null  int64         \n",
      " 5   tournament  44353 non-null  object        \n",
      "dtypes: datetime64[ns](1), int64(2), object(3)\n",
      "memory usage: 2.0+ MB\n"
     ]
    }
   ],
   "source": [
    "men.info()"
   ]
  },
  {
   "cell_type": "code",
   "execution_count": 11,
   "id": "c63d75db",
   "metadata": {},
   "outputs": [
    {
     "data": {
      "text/plain": [
       "Friendly                                17519\n",
       "FIFA World Cup qualification             7878\n",
       "UEFA Euro qualification                  2585\n",
       "African Cup of Nations qualification     1932\n",
       "FIFA World Cup                            964\n",
       "                                        ...  \n",
       "Real Madrid 75th Anniversary Cup            1\n",
       "Évence Coppée Trophy                        1\n",
       "Copa Confraternidad                         1\n",
       "TIFOCO Tournament                           1\n",
       "FIFA 75th Anniversary Cup                   1\n",
       "Name: tournament, Length: 141, dtype: int64"
      ]
     },
     "execution_count": 11,
     "metadata": {},
     "output_type": "execute_result"
    }
   ],
   "source": [
    "men.tournament.value_counts()"
   ]
  },
  {
   "cell_type": "code",
   "execution_count": 12,
   "id": "c17a2b0c",
   "metadata": {},
   "outputs": [],
   "source": [
    "# Create subsets for both men and women that include offical 'FIFA World Cup' matches from 2002-01-01\n",
    "men_subset = men[men['tournament'].isin(['FIFA World Cup']) & (men['date'] > '2002-01-01')]\n",
    "women_subset = women[women['tournament'].isin(['FIFA World Cup']) & (women['date'] > '2002-01-01')]"
   ]
  },
  {
   "cell_type": "code",
   "execution_count": 13,
   "id": "295cccf2",
   "metadata": {},
   "outputs": [
    {
     "data": {
      "text/html": [
       "<div>\n",
       "<style scoped>\n",
       "    .dataframe tbody tr th:only-of-type {\n",
       "        vertical-align: middle;\n",
       "    }\n",
       "\n",
       "    .dataframe tbody tr th {\n",
       "        vertical-align: top;\n",
       "    }\n",
       "\n",
       "    .dataframe thead th {\n",
       "        text-align: right;\n",
       "    }\n",
       "</style>\n",
       "<table border=\"1\" class=\"dataframe\">\n",
       "  <thead>\n",
       "    <tr style=\"text-align: right;\">\n",
       "      <th></th>\n",
       "      <th>date</th>\n",
       "      <th>home_team</th>\n",
       "      <th>away_team</th>\n",
       "      <th>home_score</th>\n",
       "      <th>away_score</th>\n",
       "      <th>tournament</th>\n",
       "    </tr>\n",
       "  </thead>\n",
       "  <tbody>\n",
       "    <tr>\n",
       "      <th>25164</th>\n",
       "      <td>2002-05-31</td>\n",
       "      <td>France</td>\n",
       "      <td>Senegal</td>\n",
       "      <td>0</td>\n",
       "      <td>1</td>\n",
       "      <td>FIFA World Cup</td>\n",
       "    </tr>\n",
       "    <tr>\n",
       "      <th>25165</th>\n",
       "      <td>2002-06-01</td>\n",
       "      <td>Germany</td>\n",
       "      <td>Saudi Arabia</td>\n",
       "      <td>8</td>\n",
       "      <td>0</td>\n",
       "      <td>FIFA World Cup</td>\n",
       "    </tr>\n",
       "    <tr>\n",
       "      <th>25166</th>\n",
       "      <td>2002-06-01</td>\n",
       "      <td>Republic of Ireland</td>\n",
       "      <td>Cameroon</td>\n",
       "      <td>1</td>\n",
       "      <td>1</td>\n",
       "      <td>FIFA World Cup</td>\n",
       "    </tr>\n",
       "    <tr>\n",
       "      <th>25167</th>\n",
       "      <td>2002-06-01</td>\n",
       "      <td>Uruguay</td>\n",
       "      <td>Denmark</td>\n",
       "      <td>1</td>\n",
       "      <td>2</td>\n",
       "      <td>FIFA World Cup</td>\n",
       "    </tr>\n",
       "    <tr>\n",
       "      <th>25168</th>\n",
       "      <td>2002-06-02</td>\n",
       "      <td>Argentina</td>\n",
       "      <td>Nigeria</td>\n",
       "      <td>1</td>\n",
       "      <td>0</td>\n",
       "      <td>FIFA World Cup</td>\n",
       "    </tr>\n",
       "  </tbody>\n",
       "</table>\n",
       "</div>"
      ],
      "text/plain": [
       "            date            home_team     away_team  home_score  away_score  \\\n",
       "25164 2002-05-31               France       Senegal           0           1   \n",
       "25165 2002-06-01              Germany  Saudi Arabia           8           0   \n",
       "25166 2002-06-01  Republic of Ireland      Cameroon           1           1   \n",
       "25167 2002-06-01              Uruguay       Denmark           1           2   \n",
       "25168 2002-06-02            Argentina       Nigeria           1           0   \n",
       "\n",
       "           tournament  \n",
       "25164  FIFA World Cup  \n",
       "25165  FIFA World Cup  \n",
       "25166  FIFA World Cup  \n",
       "25167  FIFA World Cup  \n",
       "25168  FIFA World Cup  "
      ]
     },
     "execution_count": 13,
     "metadata": {},
     "output_type": "execute_result"
    }
   ],
   "source": [
    "men_subset.head()"
   ]
  },
  {
   "cell_type": "code",
   "execution_count": 14,
   "id": "3ae350ea",
   "metadata": {},
   "outputs": [
    {
     "name": "stdout",
     "output_type": "stream",
     "text": [
      "The number of women's soccer matches: 200\n",
      "The number of men's soccer matches: 384\n"
     ]
    }
   ],
   "source": [
    "print(f\"The number of women's soccer matches: {women_subset.shape[0]}\")\n",
    "print(f\"The number of men's soccer matches: {men_subset.shape[0]}\")"
   ]
  },
  {
   "cell_type": "markdown",
   "id": "04b8a0ce",
   "metadata": {},
   "source": [
    "In our datsets we have two different columns that include the number of golas: `home_score` and `away_score`. We should merge them into new column called `goal_scored` for easy calculations."
   ]
  },
  {
   "cell_type": "code",
   "execution_count": 15,
   "id": "da97139c",
   "metadata": {},
   "outputs": [
    {
     "data": {
      "text/html": [
       "<div>\n",
       "<style scoped>\n",
       "    .dataframe tbody tr th:only-of-type {\n",
       "        vertical-align: middle;\n",
       "    }\n",
       "\n",
       "    .dataframe tbody tr th {\n",
       "        vertical-align: top;\n",
       "    }\n",
       "\n",
       "    .dataframe thead th {\n",
       "        text-align: right;\n",
       "    }\n",
       "</style>\n",
       "<table border=\"1\" class=\"dataframe\">\n",
       "  <thead>\n",
       "    <tr style=\"text-align: right;\">\n",
       "      <th></th>\n",
       "      <th>home_score</th>\n",
       "      <th>away_score</th>\n",
       "    </tr>\n",
       "  </thead>\n",
       "  <tbody>\n",
       "    <tr>\n",
       "      <th>25164</th>\n",
       "      <td>0</td>\n",
       "      <td>1</td>\n",
       "    </tr>\n",
       "    <tr>\n",
       "      <th>25165</th>\n",
       "      <td>8</td>\n",
       "      <td>0</td>\n",
       "    </tr>\n",
       "    <tr>\n",
       "      <th>25166</th>\n",
       "      <td>1</td>\n",
       "      <td>1</td>\n",
       "    </tr>\n",
       "    <tr>\n",
       "      <th>25167</th>\n",
       "      <td>1</td>\n",
       "      <td>2</td>\n",
       "    </tr>\n",
       "    <tr>\n",
       "      <th>25168</th>\n",
       "      <td>1</td>\n",
       "      <td>0</td>\n",
       "    </tr>\n",
       "    <tr>\n",
       "      <th>...</th>\n",
       "      <td>...</td>\n",
       "      <td>...</td>\n",
       "    </tr>\n",
       "    <tr>\n",
       "      <th>44343</th>\n",
       "      <td>1</td>\n",
       "      <td>2</td>\n",
       "    </tr>\n",
       "    <tr>\n",
       "      <th>44345</th>\n",
       "      <td>3</td>\n",
       "      <td>0</td>\n",
       "    </tr>\n",
       "    <tr>\n",
       "      <th>44346</th>\n",
       "      <td>2</td>\n",
       "      <td>0</td>\n",
       "    </tr>\n",
       "    <tr>\n",
       "      <th>44350</th>\n",
       "      <td>2</td>\n",
       "      <td>1</td>\n",
       "    </tr>\n",
       "    <tr>\n",
       "      <th>44352</th>\n",
       "      <td>3</td>\n",
       "      <td>3</td>\n",
       "    </tr>\n",
       "  </tbody>\n",
       "</table>\n",
       "<p>384 rows × 2 columns</p>\n",
       "</div>"
      ],
      "text/plain": [
       "       home_score  away_score\n",
       "25164           0           1\n",
       "25165           8           0\n",
       "25166           1           1\n",
       "25167           1           2\n",
       "25168           1           0\n",
       "...           ...         ...\n",
       "44343           1           2\n",
       "44345           3           0\n",
       "44346           2           0\n",
       "44350           2           1\n",
       "44352           3           3\n",
       "\n",
       "[384 rows x 2 columns]"
      ]
     },
     "execution_count": 15,
     "metadata": {},
     "output_type": "execute_result"
    }
   ],
   "source": [
    "men_subset[['home_score', 'away_score']]"
   ]
  },
  {
   "cell_type": "code",
   "execution_count": 16,
   "id": "ebf0ce89",
   "metadata": {},
   "outputs": [],
   "source": [
    "# Create column goal_scored\n",
    "men_subset['goal_scored'] = men_subset['home_score'] + men_subset['away_score']\n",
    "women_subset['goal_scored'] = women_subset['home_score'] + women_subset['away_score']\n",
    "\n",
    "# Delete the column home_score and away_score\n",
    "men_subset.drop(['home_score', 'away_score'],axis = 1, inplace = True)\n",
    "women_subset.drop(['home_score', 'away_score'],axis = 1, inplace = True)"
   ]
  },
  {
   "cell_type": "code",
   "execution_count": 17,
   "id": "7c248765",
   "metadata": {},
   "outputs": [
    {
     "data": {
      "text/html": [
       "<div>\n",
       "<style scoped>\n",
       "    .dataframe tbody tr th:only-of-type {\n",
       "        vertical-align: middle;\n",
       "    }\n",
       "\n",
       "    .dataframe tbody tr th {\n",
       "        vertical-align: top;\n",
       "    }\n",
       "\n",
       "    .dataframe thead th {\n",
       "        text-align: right;\n",
       "    }\n",
       "</style>\n",
       "<table border=\"1\" class=\"dataframe\">\n",
       "  <thead>\n",
       "    <tr style=\"text-align: right;\">\n",
       "      <th></th>\n",
       "      <th>date</th>\n",
       "      <th>home_team</th>\n",
       "      <th>away_team</th>\n",
       "      <th>tournament</th>\n",
       "      <th>goal_scored</th>\n",
       "    </tr>\n",
       "  </thead>\n",
       "  <tbody>\n",
       "    <tr>\n",
       "      <th>25164</th>\n",
       "      <td>2002-05-31</td>\n",
       "      <td>France</td>\n",
       "      <td>Senegal</td>\n",
       "      <td>FIFA World Cup</td>\n",
       "      <td>1</td>\n",
       "    </tr>\n",
       "    <tr>\n",
       "      <th>25165</th>\n",
       "      <td>2002-06-01</td>\n",
       "      <td>Germany</td>\n",
       "      <td>Saudi Arabia</td>\n",
       "      <td>FIFA World Cup</td>\n",
       "      <td>8</td>\n",
       "    </tr>\n",
       "    <tr>\n",
       "      <th>25166</th>\n",
       "      <td>2002-06-01</td>\n",
       "      <td>Republic of Ireland</td>\n",
       "      <td>Cameroon</td>\n",
       "      <td>FIFA World Cup</td>\n",
       "      <td>2</td>\n",
       "    </tr>\n",
       "    <tr>\n",
       "      <th>25167</th>\n",
       "      <td>2002-06-01</td>\n",
       "      <td>Uruguay</td>\n",
       "      <td>Denmark</td>\n",
       "      <td>FIFA World Cup</td>\n",
       "      <td>3</td>\n",
       "    </tr>\n",
       "    <tr>\n",
       "      <th>25168</th>\n",
       "      <td>2002-06-02</td>\n",
       "      <td>Argentina</td>\n",
       "      <td>Nigeria</td>\n",
       "      <td>FIFA World Cup</td>\n",
       "      <td>1</td>\n",
       "    </tr>\n",
       "  </tbody>\n",
       "</table>\n",
       "</div>"
      ],
      "text/plain": [
       "            date            home_team     away_team      tournament  \\\n",
       "25164 2002-05-31               France       Senegal  FIFA World Cup   \n",
       "25165 2002-06-01              Germany  Saudi Arabia  FIFA World Cup   \n",
       "25166 2002-06-01  Republic of Ireland      Cameroon  FIFA World Cup   \n",
       "25167 2002-06-01              Uruguay       Denmark  FIFA World Cup   \n",
       "25168 2002-06-02            Argentina       Nigeria  FIFA World Cup   \n",
       "\n",
       "       goal_scored  \n",
       "25164            1  \n",
       "25165            8  \n",
       "25166            2  \n",
       "25167            3  \n",
       "25168            1  "
      ]
     },
     "execution_count": 17,
     "metadata": {},
     "output_type": "execute_result"
    }
   ],
   "source": [
    "men_subset.head()"
   ]
  },
  {
   "cell_type": "markdown",
   "id": "5bc61f37",
   "metadata": {},
   "source": [
    "## 3. Choosing the correct hypothesis test\n",
    "\n",
    "**$H_0$** : The mean number of goals scored in women's international soccer matches is the same as men's.\n",
    "\n",
    "**$H_A$** : The mean number of goals scored in women's international soccer matches is greater than men's."
   ]
  },
  {
   "cell_type": "markdown",
   "id": "da553015",
   "metadata": {},
   "source": [
    "Before performing the hypothesis test, let’s visualize our data to get a preliminary\n",
    "understanding."
   ]
  },
  {
   "cell_type": "code",
   "execution_count": 18,
   "id": "cdfc12d8",
   "metadata": {},
   "outputs": [
    {
     "data": {
      "image/png": "[encoded data removed]",
      "text/plain": [
       "<Figure size 1000x600 with 1 Axes>"
      ]
     },
     "metadata": {},
     "output_type": "display_data"
    }
   ],
   "source": [
    "# Data separation\n",
    "women_score = women_subset['goal_scored']\n",
    "men_score = men_subset['goal_scored']\n",
    "\n",
    "# Setting up the visualization \n",
    "plt.figure(figsize = (10,6))\n",
    "\n",
    "# Create histograms for Women score distribution based on 'goal_scored'\n",
    "plt.hist(women_score, bins = 15, alpha = 0.7, color = 'blue', edgecolor = 'blue', lw = 0.5,\n",
    "        label = 'Women score distribution')\n",
    "\n",
    "mean_women = np.mean(women_score)\n",
    "plt.axvline(mean_women, color ='black', linestyle ='dashed', linewidth=1.5,\n",
    "          label = f\"Women mean score: {mean_women:.2f}\")\n",
    "\n",
    "plt.title('Women score distribution',fontsize = 18)\n",
    "plt.show()\n"
   ]
  },
  {
   "cell_type": "code",
   "execution_count": 19,
   "id": "f19c686e",
   "metadata": {},
   "outputs": [
    {
     "data": {
      "image/png": "[encoded data removed]",
      "text/plain": [
       "<Figure size 1000x600 with 1 Axes>"
      ]
     },
     "metadata": {},
     "output_type": "display_data"
    }
   ],
   "source": [
    "# Setting up the visualization \n",
    "plt.figure(figsize = (10,6))\n",
    "\n",
    "# Create histograms for Women score distribution based on 'goal_scored'\n",
    "plt.hist(men_score, bins = 15, alpha = 0.7, color = 'blue', edgecolor = 'blue', lw = 0.5,\n",
    "        label = 'Men score distribution')\n",
    "\n",
    "mean_men = np.mean(men_score)\n",
    "plt.axvline(mean_women, color ='black', linestyle ='dashed', linewidth=1.5,\n",
    "          label = f\"Men mean score: {mean_men:.2f}\")\n",
    "\n",
    "plt.title('Men score distribution',fontsize = 18)\n",
    "plt.show()"
   ]
  },
  {
   "cell_type": "code",
   "execution_count": 20,
   "id": "2b786b7f",
   "metadata": {},
   "outputs": [
    {
     "name": "stdout",
     "output_type": "stream",
     "text": [
      "The mean of women score is 2.98.\n",
      "The mean of men score is 2.51.\n"
     ]
    }
   ],
   "source": [
    "print(f\"The mean of women score is {mean_women:.2f}.\")\n",
    "print(f\"The mean of men score is {mean_men:.2f}.\")"
   ]
  },
  {
   "cell_type": "code",
   "execution_count": 21,
   "id": "10af7f64",
   "metadata": {},
   "outputs": [
    {
     "data": {
      "text/plain": [
       "(384, 200)"
      ]
     },
     "execution_count": 21,
     "metadata": {},
     "output_type": "execute_result"
    }
   ],
   "source": [
    "len(men_score), len(women_score)"
   ]
  },
  {
   "cell_type": "code",
   "execution_count": 32,
   "id": "b3a58b82",
   "metadata": {},
   "outputs": [
    {
     "data": {
      "image/png": "[encoded data removed]",
      "text/plain": [
       "<Figure size 1400x600 with 2 Axes>"
      ]
     },
     "metadata": {},
     "output_type": "display_data"
    }
   ],
   "source": [
    "women_score_skew = women_score.skew()\n",
    "men_score_skew = men_score.skew()\n",
    "\n",
    "sns.set(style = 'whitegrid')\n",
    "\n",
    "# Create a figure for 2 subplots\n",
    "fig, ax = plt.subplots(1,2, figsize = (14,6))\n",
    "\n",
    "# Plot Women score\n",
    "sns.histplot(women_score, kde = True, ax= ax[0], color = 'skyblue')\n",
    "ax[0].set_title('Distribution of Women Score', fontsize = 16)\n",
    "ax[0].set_xlabel('Women Score')\n",
    "ax[0].set_ylabel('Frequency')\n",
    "\n",
    "# Annotate Skewness\n",
    "ax[0].text(0.5, 0.5, f'Skew: {women_score_skew:.2f}', transform=ax[0].transAxes,\n",
    "          horizontalalignment = 'right', color ='black', weight = 'bold', fontsize = 14)\n",
    "\n",
    "\n",
    "# Plot Men score\n",
    "sns.histplot(men_score, kde = True, ax= ax[1], color = 'salmon')\n",
    "ax[1].set_title('Distribution of Men Score', fontsize = 16)\n",
    "ax[1].set_xlabel('Men Score')\n",
    "ax[1].set_ylabel('Frequency')\n",
    "\n",
    "# Annotate Skewness\n",
    "ax[1].text(0.5, 0.5, f'Skew: {men_score_skew:.2f}', transform=ax[1].transAxes,\n",
    "          horizontalalignment = 'right', color ='black', weight = 'bold', fontsize = 14)\n",
    "\n",
    "\n",
    "plt.tight_layout()\n",
    "plt.show()"
   ]
  },
  {
   "cell_type": "markdown",
   "id": "858636e6",
   "metadata": {},
   "source": [
    "The distibutions are not normaly, so we cannot use t-test.\n",
    "We can check this assumption about distribution using Shapiro-Wilk test."
   ]
  },
  {
   "cell_type": "markdown",
   "id": "12a906ab",
   "metadata": {},
   "source": [
    "**$H_{0}$**: The data follows the specified distribution (normal distribution, in this case)\n",
    "\n",
    "**$H_{1}$**: The data does not follow the specified distribution."
   ]
  },
  {
   "cell_type": "code",
   "execution_count": 22,
   "id": "15961f3e",
   "metadata": {},
   "outputs": [
    {
     "name": "stdout",
     "output_type": "stream",
     "text": [
      "Woman score distribution:\n",
      " ShapiroResult(statistic=0.8491010665893555, pvalue=3.890452684399831e-13)\n",
      "Man score distribution: \n",
      " ShapiroResult(statistic=0.9266489148139954, pvalue=8.894154401688226e-13)\n"
     ]
    }
   ],
   "source": [
    "from scipy.stats import shapiro\n",
    "print(f\"Woman score distribution:\\n {shapiro(women_score)}\")\n",
    "print(f\"Man score distribution: \\n {shapiro(men_score)}\")"
   ]
  },
  {
   "cell_type": "code",
   "execution_count": 23,
   "id": "20ac10d8",
   "metadata": {},
   "outputs": [
    {
     "name": "stdout",
     "output_type": "stream",
     "text": [
      "Reject the null hypothesis that the data is normaly distributed.\n"
     ]
    }
   ],
   "source": [
    "alpha = 0.05\n",
    "p_val = shapiro(women_score)[1]\n",
    "if p_val <= alpha:\n",
    "    print('Reject the null hypothesis that the data is normaly distributed.')\n",
    "else:\n",
    "    pritn('Fail to reject')"
   ]
  },
  {
   "cell_type": "markdown",
   "id": "8ec0a551",
   "metadata": {},
   "source": [
    "Because of the result (p_value is less than 0.05) we can reject the null hypothesis.\n",
    "Now it is obvious that these distributions are not normal.\n",
    "So, instead t-test we can useo non-parametric test called `Wilcoxon-Mann_Whitney`.\n"
   ]
  },
  {
   "cell_type": "markdown",
   "id": "b4540b0f",
   "metadata": {},
   "source": [
    "## 4. Performing the hypothesis test"
   ]
  },
  {
   "cell_type": "code",
   "execution_count": 24,
   "id": "846086e9",
   "metadata": {},
   "outputs": [
    {
     "name": "stdout",
     "output_type": "stream",
     "text": [
      "MannwhitneyuResult(statistic=43273.0, pvalue=0.005106609825443641)\n"
     ]
    }
   ],
   "source": [
    "from scipy.stats import mannwhitneyu\n",
    "\n",
    "result = mannwhitneyu(x = women_score, y = men_score, alternative = 'greater')\n",
    "print(result)"
   ]
  },
  {
   "cell_type": "markdown",
   "id": "c8e4fcd6",
   "metadata": {},
   "source": [
    "## 5. Interpreting the reults of the hypothesis test\n"
   ]
  },
  {
   "cell_type": "code",
   "execution_count": 25,
   "id": "ab2f599a",
   "metadata": {},
   "outputs": [],
   "source": [
    "alpha = 0.001\n",
    "p_val = result[1]\n",
    "\n",
    "if p_val <= alpha:\n",
    "    result = 'reject'\n",
    "else:\n",
    "    result = 'fail to reject'\n",
    "    "
   ]
  },
  {
   "cell_type": "code",
   "execution_count": 27,
   "id": "89a5549d",
   "metadata": {},
   "outputs": [
    {
     "name": "stdout",
     "output_type": "stream",
     "text": [
      "{'p_val': 0.005106609825443641, 'result': 'fail to reject'}\n"
     ]
    }
   ],
   "source": [
    "result_dict = {'p_val' : p_val, 'result': result}\n",
    "print(result_dict)"
   ]
  },
  {
   "cell_type": "markdown",
   "id": "760926e4",
   "metadata": {},
   "source": [
    "## Conclusion\n",
    "\n",
    "The result of testing hypothesis is above, and based on theory we can conclude that we should reject the hypothesis \"The mean number of goals scored in women's international soccer matches is the same as men's\"."
   ]
  }
 ],
 "metadata": {
  "kernelspec": {
   "display_name": "Python 3 (ipykernel)",
   "language": "python",
   "name": "python3"
  },
  "language_info": {
   "codemirror_mode": {
    "name": "ipython",
    "version": 3
   },
   "file_extension": ".py",
   "mimetype": "text/x-python",
   "name": "python",
   "nbconvert_exporter": "python",
   "pygments_lexer": "ipython3",
   "version": "3.10.8"
  }
 },
 "nbformat": 4,
 "nbformat_minor": 5
}
